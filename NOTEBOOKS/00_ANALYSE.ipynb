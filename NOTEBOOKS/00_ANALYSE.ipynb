{
 "cells": [
  {
   "cell_type": "markdown",
   "metadata": {},
   "source": [
    "# FIRST ANALYS OF CLIENT FILES\n",
    "\n",
    "### IMPORTS LIBS"
   ]
  },
  {
   "cell_type": "code",
   "execution_count": 22,
   "metadata": {},
   "outputs": [],
   "source": [
    "import sys\n",
    "sys.path.append('../ASSETS/CLASS/')\n",
    "import pandas as pd\n",
    "from Viz import Viz"
   ]
  },
  {
   "cell_type": "code",
   "execution_count": 23,
   "outputs": [],
   "source": [
    "customer = pd.read_csv('../DATA/IN/olist_customers_dataset.csv')\n",
    "product = pd.read_csv('../DATA/IN/olist_products_dataset.csv')\n",
    "order = pd.read_csv('../DATA/IN/olist_orders_dataset.csv')\n",
    "payment = pd.read_csv('../DATA/IN/olist_order_payments_dataset.csv', sep=';')\n",
    "order_item = pd.read_csv('../DATA/IN/olist_order_items_dataset.csv')\n",
    "sellers = pd.read_csv('../DATA/IN/olist_sellers_dataset.csv')\n",
    "order_review = pd.read_csv('../DATA/IN/olist_order_reviews_dataset.csv')"
   ],
   "metadata": {
    "collapsed": false
   }
  },
  {
   "cell_type": "code",
   "execution_count": 24,
   "metadata": {},
   "outputs": [
    {
     "name": "stdout",
     "output_type": "stream",
     "text": [
      "Notre Dataset est composé de 99441 Clients et 5 attributs\n"
     ]
    },
    {
     "data": {
      "text/plain": "                       name    type  \\\n0               customer_id  object   \n1        customer_unique_id  object   \n2  customer_zip_code_prefix   int64   \n3             customer_city  object   \n4            customer_state  object   \n\n                                              sample  nb_uniques  %_uniques  \\\n0  ['06b8999e2fba1a1fbc88172c00ba8bc7', '18955e83...       99441     100.00   \n1  ['861eff4711a542e4b93843c6dd7febb0', '290c77bc...       96096      96.64   \n2                   [14409, 9790, 1151, 8775, 13056]       14994      15.08   \n3  ['franca', 'sao bernardo do campo', 'sao paulo...        4119       4.14   \n4                     ['SP', 'SP', 'SP', 'SP', 'SP']          27       0.03   \n\n   %_nulls  \n0      0.0  \n1      0.0  \n2      0.0  \n3      0.0  \n4      0.0  ",
      "text/html": "<div>\n<style scoped>\n    .dataframe tbody tr th:only-of-type {\n        vertical-align: middle;\n    }\n\n    .dataframe tbody tr th {\n        vertical-align: top;\n    }\n\n    .dataframe thead th {\n        text-align: right;\n    }\n</style>\n<table border=\"1\" class=\"dataframe\">\n  <thead>\n    <tr style=\"text-align: right;\">\n      <th></th>\n      <th>name</th>\n      <th>type</th>\n      <th>sample</th>\n      <th>nb_uniques</th>\n      <th>%_uniques</th>\n      <th>%_nulls</th>\n    </tr>\n  </thead>\n  <tbody>\n    <tr>\n      <th>0</th>\n      <td>customer_id</td>\n      <td>object</td>\n      <td>['06b8999e2fba1a1fbc88172c00ba8bc7', '18955e83...</td>\n      <td>99441</td>\n      <td>100.00</td>\n      <td>0.0</td>\n    </tr>\n    <tr>\n      <th>1</th>\n      <td>customer_unique_id</td>\n      <td>object</td>\n      <td>['861eff4711a542e4b93843c6dd7febb0', '290c77bc...</td>\n      <td>96096</td>\n      <td>96.64</td>\n      <td>0.0</td>\n    </tr>\n    <tr>\n      <th>2</th>\n      <td>customer_zip_code_prefix</td>\n      <td>int64</td>\n      <td>[14409, 9790, 1151, 8775, 13056]</td>\n      <td>14994</td>\n      <td>15.08</td>\n      <td>0.0</td>\n    </tr>\n    <tr>\n      <th>3</th>\n      <td>customer_city</td>\n      <td>object</td>\n      <td>['franca', 'sao bernardo do campo', 'sao paulo...</td>\n      <td>4119</td>\n      <td>4.14</td>\n      <td>0.0</td>\n    </tr>\n    <tr>\n      <th>4</th>\n      <td>customer_state</td>\n      <td>object</td>\n      <td>['SP', 'SP', 'SP', 'SP', 'SP']</td>\n      <td>27</td>\n      <td>0.03</td>\n      <td>0.0</td>\n    </tr>\n  </tbody>\n</table>\n</div>"
     },
     "execution_count": 24,
     "metadata": {},
     "output_type": "execute_result"
    }
   ],
   "source": [
    "customer_viz = Viz(customer)\n",
    "customer_viz.data_sample(customer)"
   ]
  },
  {
   "cell_type": "code",
   "execution_count": 25,
   "metadata": {},
   "outputs": [
    {
     "name": "stdout",
     "output_type": "stream",
     "text": [
      "Notre Dataset est composé de 32951 Clients et 9 attributs\n"
     ]
    },
    {
     "data": {
      "text/plain": "                         name     type  \\\n0                  product_id   object   \n1       product_category_name   object   \n2         product_name_lenght  float64   \n3  product_description_lenght  float64   \n4          product_photos_qty  float64   \n5            product_weight_g  float64   \n6           product_length_cm  float64   \n7           product_height_cm  float64   \n8            product_width_cm  float64   \n\n                                              sample  nb_uniques  %_uniques  \\\n0  ['1e9e8ef04dbcff4541ed26657ea517e5', '3aa07113...       32951     100.00   \n1  ['perfumaria', 'artes', 'esporte_lazer', 'bebe...          74       0.22   \n2                     [40.0, 44.0, 46.0, 27.0, 37.0]          67       0.20   \n3                [287.0, 276.0, 250.0, 261.0, 402.0]        2961       8.98   \n4                          [1.0, 1.0, 1.0, 1.0, 4.0]          20       0.06   \n5               [225.0, 1000.0, 154.0, 371.0, 625.0]        2205       6.69   \n6                     [16.0, 30.0, 18.0, 26.0, 20.0]         100       0.30   \n7                       [10.0, 18.0, 9.0, 4.0, 17.0]         103       0.31   \n8                     [14.0, 20.0, 15.0, 26.0, 13.0]          96       0.29   \n\n   %_nulls  \n0     0.00  \n1     1.85  \n2     1.85  \n3     1.85  \n4     1.85  \n5     0.01  \n6     0.01  \n7     0.01  \n8     0.01  ",
      "text/html": "<div>\n<style scoped>\n    .dataframe tbody tr th:only-of-type {\n        vertical-align: middle;\n    }\n\n    .dataframe tbody tr th {\n        vertical-align: top;\n    }\n\n    .dataframe thead th {\n        text-align: right;\n    }\n</style>\n<table border=\"1\" class=\"dataframe\">\n  <thead>\n    <tr style=\"text-align: right;\">\n      <th></th>\n      <th>name</th>\n      <th>type</th>\n      <th>sample</th>\n      <th>nb_uniques</th>\n      <th>%_uniques</th>\n      <th>%_nulls</th>\n    </tr>\n  </thead>\n  <tbody>\n    <tr>\n      <th>0</th>\n      <td>product_id</td>\n      <td>object</td>\n      <td>['1e9e8ef04dbcff4541ed26657ea517e5', '3aa07113...</td>\n      <td>32951</td>\n      <td>100.00</td>\n      <td>0.00</td>\n    </tr>\n    <tr>\n      <th>1</th>\n      <td>product_category_name</td>\n      <td>object</td>\n      <td>['perfumaria', 'artes', 'esporte_lazer', 'bebe...</td>\n      <td>74</td>\n      <td>0.22</td>\n      <td>1.85</td>\n    </tr>\n    <tr>\n      <th>2</th>\n      <td>product_name_lenght</td>\n      <td>float64</td>\n      <td>[40.0, 44.0, 46.0, 27.0, 37.0]</td>\n      <td>67</td>\n      <td>0.20</td>\n      <td>1.85</td>\n    </tr>\n    <tr>\n      <th>3</th>\n      <td>product_description_lenght</td>\n      <td>float64</td>\n      <td>[287.0, 276.0, 250.0, 261.0, 402.0]</td>\n      <td>2961</td>\n      <td>8.98</td>\n      <td>1.85</td>\n    </tr>\n    <tr>\n      <th>4</th>\n      <td>product_photos_qty</td>\n      <td>float64</td>\n      <td>[1.0, 1.0, 1.0, 1.0, 4.0]</td>\n      <td>20</td>\n      <td>0.06</td>\n      <td>1.85</td>\n    </tr>\n    <tr>\n      <th>5</th>\n      <td>product_weight_g</td>\n      <td>float64</td>\n      <td>[225.0, 1000.0, 154.0, 371.0, 625.0]</td>\n      <td>2205</td>\n      <td>6.69</td>\n      <td>0.01</td>\n    </tr>\n    <tr>\n      <th>6</th>\n      <td>product_length_cm</td>\n      <td>float64</td>\n      <td>[16.0, 30.0, 18.0, 26.0, 20.0]</td>\n      <td>100</td>\n      <td>0.30</td>\n      <td>0.01</td>\n    </tr>\n    <tr>\n      <th>7</th>\n      <td>product_height_cm</td>\n      <td>float64</td>\n      <td>[10.0, 18.0, 9.0, 4.0, 17.0]</td>\n      <td>103</td>\n      <td>0.31</td>\n      <td>0.01</td>\n    </tr>\n    <tr>\n      <th>8</th>\n      <td>product_width_cm</td>\n      <td>float64</td>\n      <td>[14.0, 20.0, 15.0, 26.0, 13.0]</td>\n      <td>96</td>\n      <td>0.29</td>\n      <td>0.01</td>\n    </tr>\n  </tbody>\n</table>\n</div>"
     },
     "execution_count": 25,
     "metadata": {},
     "output_type": "execute_result"
    }
   ],
   "source": [
    "product_viz = Viz(product)\n",
    "product_viz.data_sample(product)"
   ]
  },
  {
   "cell_type": "code",
   "execution_count": 26,
   "outputs": [
    {
     "name": "stdout",
     "output_type": "stream",
     "text": [
      "Notre Dataset est composé de 99441 Clients et 8 attributs\n"
     ]
    },
    {
     "data": {
      "text/plain": "                            name    type  \\\n0                       order_id  object   \n1                    customer_id  object   \n2                   order_status  object   \n3       order_purchase_timestamp  object   \n4              order_approved_at  object   \n5   order_delivered_carrier_date  object   \n6  order_delivered_customer_date  object   \n7  order_estimated_delivery_date  object   \n\n                                              sample  nb_uniques  %_uniques  \\\n0  ['e481f51cbdc54678b7cc49136f2d6af7', '53cdb2fc...       99441     100.00   \n1  ['9ef432eb6251297304e76186b10a928d', 'b0830fb4...       99441     100.00   \n2  ['delivered', 'delivered', 'delivered', 'deliv...           8       0.01   \n3  ['2017-10-02 10:56:33', '2018-07-24 20:41:37',...       98875      99.43   \n4  ['2017-10-02 11:07:15', '2018-07-26 03:24:27',...       90734      91.24   \n5  ['2017-10-04 19:55:00', '2018-07-26 14:31:00',...       81019      81.47   \n6  ['2017-10-10 21:25:13', '2018-08-07 15:27:45',...       95665      96.20   \n7  ['2017-10-18 00:00:00', '2018-08-13 00:00:00',...         459       0.46   \n\n   %_nulls  \n0     0.00  \n1     0.00  \n2     0.00  \n3     0.00  \n4     0.16  \n5     1.79  \n6     2.98  \n7     0.00  ",
      "text/html": "<div>\n<style scoped>\n    .dataframe tbody tr th:only-of-type {\n        vertical-align: middle;\n    }\n\n    .dataframe tbody tr th {\n        vertical-align: top;\n    }\n\n    .dataframe thead th {\n        text-align: right;\n    }\n</style>\n<table border=\"1\" class=\"dataframe\">\n  <thead>\n    <tr style=\"text-align: right;\">\n      <th></th>\n      <th>name</th>\n      <th>type</th>\n      <th>sample</th>\n      <th>nb_uniques</th>\n      <th>%_uniques</th>\n      <th>%_nulls</th>\n    </tr>\n  </thead>\n  <tbody>\n    <tr>\n      <th>0</th>\n      <td>order_id</td>\n      <td>object</td>\n      <td>['e481f51cbdc54678b7cc49136f2d6af7', '53cdb2fc...</td>\n      <td>99441</td>\n      <td>100.00</td>\n      <td>0.00</td>\n    </tr>\n    <tr>\n      <th>1</th>\n      <td>customer_id</td>\n      <td>object</td>\n      <td>['9ef432eb6251297304e76186b10a928d', 'b0830fb4...</td>\n      <td>99441</td>\n      <td>100.00</td>\n      <td>0.00</td>\n    </tr>\n    <tr>\n      <th>2</th>\n      <td>order_status</td>\n      <td>object</td>\n      <td>['delivered', 'delivered', 'delivered', 'deliv...</td>\n      <td>8</td>\n      <td>0.01</td>\n      <td>0.00</td>\n    </tr>\n    <tr>\n      <th>3</th>\n      <td>order_purchase_timestamp</td>\n      <td>object</td>\n      <td>['2017-10-02 10:56:33', '2018-07-24 20:41:37',...</td>\n      <td>98875</td>\n      <td>99.43</td>\n      <td>0.00</td>\n    </tr>\n    <tr>\n      <th>4</th>\n      <td>order_approved_at</td>\n      <td>object</td>\n      <td>['2017-10-02 11:07:15', '2018-07-26 03:24:27',...</td>\n      <td>90734</td>\n      <td>91.24</td>\n      <td>0.16</td>\n    </tr>\n    <tr>\n      <th>5</th>\n      <td>order_delivered_carrier_date</td>\n      <td>object</td>\n      <td>['2017-10-04 19:55:00', '2018-07-26 14:31:00',...</td>\n      <td>81019</td>\n      <td>81.47</td>\n      <td>1.79</td>\n    </tr>\n    <tr>\n      <th>6</th>\n      <td>order_delivered_customer_date</td>\n      <td>object</td>\n      <td>['2017-10-10 21:25:13', '2018-08-07 15:27:45',...</td>\n      <td>95665</td>\n      <td>96.20</td>\n      <td>2.98</td>\n    </tr>\n    <tr>\n      <th>7</th>\n      <td>order_estimated_delivery_date</td>\n      <td>object</td>\n      <td>['2017-10-18 00:00:00', '2018-08-13 00:00:00',...</td>\n      <td>459</td>\n      <td>0.46</td>\n      <td>0.00</td>\n    </tr>\n  </tbody>\n</table>\n</div>"
     },
     "execution_count": 26,
     "metadata": {},
     "output_type": "execute_result"
    }
   ],
   "source": [
    "order_viz = Viz(order)\n",
    "order_viz.data_sample(order)"
   ],
   "metadata": {
    "collapsed": false
   }
  },
  {
   "cell_type": "code",
   "execution_count": 27,
   "outputs": [
    {
     "name": "stdout",
     "output_type": "stream",
     "text": [
      "Notre Dataset est composé de 112650 Clients et 7 attributs\n"
     ]
    },
    {
     "data": {
      "text/plain": "                  name     type  \\\n0             order_id   object   \n1        order_item_id    int64   \n2           product_id   object   \n3            seller_id   object   \n4  shipping_limit_date   object   \n5                price  float64   \n6        freight_value  float64   \n\n                                              sample  nb_uniques  %_uniques  \\\n0  ['00010242fe8c5a6d1ba2dd792cb16214', '00018f77...       98666      87.59   \n1                                    [1, 1, 1, 1, 1]          21       0.02   \n2  ['4244733e06e7ecb4970a6e2683c13e61', 'e5f2d52b...       32951      29.25   \n3  ['48436dade18ac8b2bce089ec2a041202', 'dd7ddc04...        3095       2.75   \n4  ['2017-09-19 09:45:35', '2017-05-03 11:05:13',...       93318      82.84   \n5                 [58.9, 239.9, 199.0, 12.99, 199.9]        5968       5.30   \n6                [13.29, 19.93, 17.87, 12.79, 18.14]        6999       6.21   \n\n   %_nulls  \n0      0.0  \n1      0.0  \n2      0.0  \n3      0.0  \n4      0.0  \n5      0.0  \n6      0.0  ",
      "text/html": "<div>\n<style scoped>\n    .dataframe tbody tr th:only-of-type {\n        vertical-align: middle;\n    }\n\n    .dataframe tbody tr th {\n        vertical-align: top;\n    }\n\n    .dataframe thead th {\n        text-align: right;\n    }\n</style>\n<table border=\"1\" class=\"dataframe\">\n  <thead>\n    <tr style=\"text-align: right;\">\n      <th></th>\n      <th>name</th>\n      <th>type</th>\n      <th>sample</th>\n      <th>nb_uniques</th>\n      <th>%_uniques</th>\n      <th>%_nulls</th>\n    </tr>\n  </thead>\n  <tbody>\n    <tr>\n      <th>0</th>\n      <td>order_id</td>\n      <td>object</td>\n      <td>['00010242fe8c5a6d1ba2dd792cb16214', '00018f77...</td>\n      <td>98666</td>\n      <td>87.59</td>\n      <td>0.0</td>\n    </tr>\n    <tr>\n      <th>1</th>\n      <td>order_item_id</td>\n      <td>int64</td>\n      <td>[1, 1, 1, 1, 1]</td>\n      <td>21</td>\n      <td>0.02</td>\n      <td>0.0</td>\n    </tr>\n    <tr>\n      <th>2</th>\n      <td>product_id</td>\n      <td>object</td>\n      <td>['4244733e06e7ecb4970a6e2683c13e61', 'e5f2d52b...</td>\n      <td>32951</td>\n      <td>29.25</td>\n      <td>0.0</td>\n    </tr>\n    <tr>\n      <th>3</th>\n      <td>seller_id</td>\n      <td>object</td>\n      <td>['48436dade18ac8b2bce089ec2a041202', 'dd7ddc04...</td>\n      <td>3095</td>\n      <td>2.75</td>\n      <td>0.0</td>\n    </tr>\n    <tr>\n      <th>4</th>\n      <td>shipping_limit_date</td>\n      <td>object</td>\n      <td>['2017-09-19 09:45:35', '2017-05-03 11:05:13',...</td>\n      <td>93318</td>\n      <td>82.84</td>\n      <td>0.0</td>\n    </tr>\n    <tr>\n      <th>5</th>\n      <td>price</td>\n      <td>float64</td>\n      <td>[58.9, 239.9, 199.0, 12.99, 199.9]</td>\n      <td>5968</td>\n      <td>5.30</td>\n      <td>0.0</td>\n    </tr>\n    <tr>\n      <th>6</th>\n      <td>freight_value</td>\n      <td>float64</td>\n      <td>[13.29, 19.93, 17.87, 12.79, 18.14]</td>\n      <td>6999</td>\n      <td>6.21</td>\n      <td>0.0</td>\n    </tr>\n  </tbody>\n</table>\n</div>"
     },
     "execution_count": 27,
     "metadata": {},
     "output_type": "execute_result"
    }
   ],
   "source": [
    "order_item_viz = Viz(order_item)\n",
    "order_item_viz.data_sample(order_item)"
   ],
   "metadata": {
    "collapsed": false
   }
  },
  {
   "cell_type": "code",
   "execution_count": 28,
   "outputs": [
    {
     "name": "stdout",
     "output_type": "stream",
     "text": [
      "Notre Dataset est composé de 100000 Clients et 7 attributs\n"
     ]
    },
    {
     "data": {
      "text/plain": "                      name    type  \\\n0                review_id  object   \n1                 order_id  object   \n2             review_score   int64   \n3     review_comment_title  object   \n4   review_comment_message  object   \n5     review_creation_date  object   \n6  review_answer_timestamp  object   \n\n                                              sample  nb_uniques  %_uniques  \\\n0  ['7bc2406110b926393aa56f80a40eba40', '80e641a1...       99173      99.17   \n1  ['73fc7af87114b39712e6da79b0a377eb', 'a548910a...       99441      99.44   \n2                                    [4, 5, 5, 5, 5]           5       0.00   \n3                          [nan, nan, nan, nan, nan]        4601       4.60   \n4  [nan, nan, nan, 'Recebi bem antes do prazo est...       36922      36.92   \n5  ['2018-01-18 00:00:00', '2018-03-10 00:00:00',...         637       0.64   \n6  ['2018-01-18 21:46:59', '2018-03-11 03:05:13',...       99010      99.01   \n\n   %_nulls  \n0     0.00  \n1     0.00  \n2     0.00  \n3    88.28  \n4    58.25  \n5     0.00  \n6     0.00  ",
      "text/html": "<div>\n<style scoped>\n    .dataframe tbody tr th:only-of-type {\n        vertical-align: middle;\n    }\n\n    .dataframe tbody tr th {\n        vertical-align: top;\n    }\n\n    .dataframe thead th {\n        text-align: right;\n    }\n</style>\n<table border=\"1\" class=\"dataframe\">\n  <thead>\n    <tr style=\"text-align: right;\">\n      <th></th>\n      <th>name</th>\n      <th>type</th>\n      <th>sample</th>\n      <th>nb_uniques</th>\n      <th>%_uniques</th>\n      <th>%_nulls</th>\n    </tr>\n  </thead>\n  <tbody>\n    <tr>\n      <th>0</th>\n      <td>review_id</td>\n      <td>object</td>\n      <td>['7bc2406110b926393aa56f80a40eba40', '80e641a1...</td>\n      <td>99173</td>\n      <td>99.17</td>\n      <td>0.00</td>\n    </tr>\n    <tr>\n      <th>1</th>\n      <td>order_id</td>\n      <td>object</td>\n      <td>['73fc7af87114b39712e6da79b0a377eb', 'a548910a...</td>\n      <td>99441</td>\n      <td>99.44</td>\n      <td>0.00</td>\n    </tr>\n    <tr>\n      <th>2</th>\n      <td>review_score</td>\n      <td>int64</td>\n      <td>[4, 5, 5, 5, 5]</td>\n      <td>5</td>\n      <td>0.00</td>\n      <td>0.00</td>\n    </tr>\n    <tr>\n      <th>3</th>\n      <td>review_comment_title</td>\n      <td>object</td>\n      <td>[nan, nan, nan, nan, nan]</td>\n      <td>4601</td>\n      <td>4.60</td>\n      <td>88.28</td>\n    </tr>\n    <tr>\n      <th>4</th>\n      <td>review_comment_message</td>\n      <td>object</td>\n      <td>[nan, nan, nan, 'Recebi bem antes do prazo est...</td>\n      <td>36922</td>\n      <td>36.92</td>\n      <td>58.25</td>\n    </tr>\n    <tr>\n      <th>5</th>\n      <td>review_creation_date</td>\n      <td>object</td>\n      <td>['2018-01-18 00:00:00', '2018-03-10 00:00:00',...</td>\n      <td>637</td>\n      <td>0.64</td>\n      <td>0.00</td>\n    </tr>\n    <tr>\n      <th>6</th>\n      <td>review_answer_timestamp</td>\n      <td>object</td>\n      <td>['2018-01-18 21:46:59', '2018-03-11 03:05:13',...</td>\n      <td>99010</td>\n      <td>99.01</td>\n      <td>0.00</td>\n    </tr>\n  </tbody>\n</table>\n</div>"
     },
     "execution_count": 28,
     "metadata": {},
     "output_type": "execute_result"
    }
   ],
   "source": [
    "order_review_viz = Viz(order_review)\n",
    "order_review_viz.data_sample(order_review)"
   ],
   "metadata": {
    "collapsed": false
   }
  },
  {
   "cell_type": "code",
   "execution_count": 29,
   "outputs": [
    {
     "name": "stdout",
     "output_type": "stream",
     "text": [
      "Notre Dataset est composé de 103886 Clients et 5 attributs\n"
     ]
    },
    {
     "data": {
      "text/plain": "                   name    type  \\\n0              order_id  object   \n1    payment_sequential   int64   \n2          payment_type  object   \n3  payment_installments   int64   \n4         payment_value  object   \n\n                                              sample  nb_uniques  %_uniques  \\\n0  ['b81ef226f3fe1789b1e8b2acac839d17', 'a9810da8...       99440      95.72   \n1                                    [1, 1, 1, 1, 1]          29       0.03   \n2  ['credit_card', 'credit_card', 'credit_card', ...           5       0.00   \n3                                    [8, 1, 1, 8, 2]          24       0.02   \n4    ['99,33', '24,39', '65,71', '107,78', '128,45']       29077      27.99   \n\n   %_nulls  \n0      0.0  \n1      0.0  \n2      0.0  \n3      0.0  \n4      0.0  ",
      "text/html": "<div>\n<style scoped>\n    .dataframe tbody tr th:only-of-type {\n        vertical-align: middle;\n    }\n\n    .dataframe tbody tr th {\n        vertical-align: top;\n    }\n\n    .dataframe thead th {\n        text-align: right;\n    }\n</style>\n<table border=\"1\" class=\"dataframe\">\n  <thead>\n    <tr style=\"text-align: right;\">\n      <th></th>\n      <th>name</th>\n      <th>type</th>\n      <th>sample</th>\n      <th>nb_uniques</th>\n      <th>%_uniques</th>\n      <th>%_nulls</th>\n    </tr>\n  </thead>\n  <tbody>\n    <tr>\n      <th>0</th>\n      <td>order_id</td>\n      <td>object</td>\n      <td>['b81ef226f3fe1789b1e8b2acac839d17', 'a9810da8...</td>\n      <td>99440</td>\n      <td>95.72</td>\n      <td>0.0</td>\n    </tr>\n    <tr>\n      <th>1</th>\n      <td>payment_sequential</td>\n      <td>int64</td>\n      <td>[1, 1, 1, 1, 1]</td>\n      <td>29</td>\n      <td>0.03</td>\n      <td>0.0</td>\n    </tr>\n    <tr>\n      <th>2</th>\n      <td>payment_type</td>\n      <td>object</td>\n      <td>['credit_card', 'credit_card', 'credit_card', ...</td>\n      <td>5</td>\n      <td>0.00</td>\n      <td>0.0</td>\n    </tr>\n    <tr>\n      <th>3</th>\n      <td>payment_installments</td>\n      <td>int64</td>\n      <td>[8, 1, 1, 8, 2]</td>\n      <td>24</td>\n      <td>0.02</td>\n      <td>0.0</td>\n    </tr>\n    <tr>\n      <th>4</th>\n      <td>payment_value</td>\n      <td>object</td>\n      <td>['99,33', '24,39', '65,71', '107,78', '128,45']</td>\n      <td>29077</td>\n      <td>27.99</td>\n      <td>0.0</td>\n    </tr>\n  </tbody>\n</table>\n</div>"
     },
     "execution_count": 29,
     "metadata": {},
     "output_type": "execute_result"
    }
   ],
   "source": [
    "payment_viz = Viz(payment)\n",
    "payment_viz.data_sample(payment)"
   ],
   "metadata": {
    "collapsed": false
   }
  },
  {
   "cell_type": "code",
   "execution_count": 30,
   "outputs": [
    {
     "name": "stdout",
     "output_type": "stream",
     "text": [
      "Notre Dataset est composé de 3095 Clients et 4 attributs\n"
     ]
    },
    {
     "data": {
      "text/plain": "                     name    type  \\\n0               seller_id  object   \n1  seller_zip_code_prefix   int64   \n2             seller_city  object   \n3            seller_state  object   \n\n                                              sample  nb_uniques  %_uniques  \\\n0  ['3442f8959a84dea7ee197c632cb2df15', 'd1b65fc7...        3095     100.00   \n1                 [13023, 13844, 20031, 4195, 12914]        2246      72.57   \n2  ['campinas', 'mogi guacu', 'rio de janeiro', '...         611      19.74   \n3                     ['SP', 'SP', 'RJ', 'SP', 'SP']          23       0.74   \n\n   %_nulls  \n0      0.0  \n1      0.0  \n2      0.0  \n3      0.0  ",
      "text/html": "<div>\n<style scoped>\n    .dataframe tbody tr th:only-of-type {\n        vertical-align: middle;\n    }\n\n    .dataframe tbody tr th {\n        vertical-align: top;\n    }\n\n    .dataframe thead th {\n        text-align: right;\n    }\n</style>\n<table border=\"1\" class=\"dataframe\">\n  <thead>\n    <tr style=\"text-align: right;\">\n      <th></th>\n      <th>name</th>\n      <th>type</th>\n      <th>sample</th>\n      <th>nb_uniques</th>\n      <th>%_uniques</th>\n      <th>%_nulls</th>\n    </tr>\n  </thead>\n  <tbody>\n    <tr>\n      <th>0</th>\n      <td>seller_id</td>\n      <td>object</td>\n      <td>['3442f8959a84dea7ee197c632cb2df15', 'd1b65fc7...</td>\n      <td>3095</td>\n      <td>100.00</td>\n      <td>0.0</td>\n    </tr>\n    <tr>\n      <th>1</th>\n      <td>seller_zip_code_prefix</td>\n      <td>int64</td>\n      <td>[13023, 13844, 20031, 4195, 12914]</td>\n      <td>2246</td>\n      <td>72.57</td>\n      <td>0.0</td>\n    </tr>\n    <tr>\n      <th>2</th>\n      <td>seller_city</td>\n      <td>object</td>\n      <td>['campinas', 'mogi guacu', 'rio de janeiro', '...</td>\n      <td>611</td>\n      <td>19.74</td>\n      <td>0.0</td>\n    </tr>\n    <tr>\n      <th>3</th>\n      <td>seller_state</td>\n      <td>object</td>\n      <td>['SP', 'SP', 'RJ', 'SP', 'SP']</td>\n      <td>23</td>\n      <td>0.74</td>\n      <td>0.0</td>\n    </tr>\n  </tbody>\n</table>\n</div>"
     },
     "execution_count": 30,
     "metadata": {},
     "output_type": "execute_result"
    }
   ],
   "source": [
    "sellers_viz = Viz(sellers)\n",
    "sellers_viz.data_sample(sellers)"
   ],
   "metadata": {
    "collapsed": false
   }
  },
  {
   "cell_type": "code",
   "execution_count": null,
   "outputs": [],
   "source": [],
   "metadata": {
    "collapsed": false
   }
  }
 ],
 "metadata": {
  "kernelspec": {
   "display_name": "data_science",
   "language": "python",
   "name": "python3"
  },
  "language_info": {
   "codemirror_mode": {
    "name": "ipython",
    "version": 3
   },
   "file_extension": ".py",
   "mimetype": "text/x-python",
   "name": "python",
   "nbconvert_exporter": "python",
   "pygments_lexer": "ipython3",
   "version": "3.11.3"
  }
 },
 "nbformat": 4,
 "nbformat_minor": 2
}
