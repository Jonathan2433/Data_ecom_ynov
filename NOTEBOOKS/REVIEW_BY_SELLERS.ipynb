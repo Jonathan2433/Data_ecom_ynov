{
 "cells": [
  {
   "cell_type": "code",
   "execution_count": 18,
   "id": "initial_id",
   "metadata": {
    "collapsed": true,
    "ExecuteTime": {
     "end_time": "2023-11-03T15:31:50.718889800Z",
     "start_time": "2023-11-03T15:31:50.713311600Z"
    }
   },
   "outputs": [],
   "source": [
    "import  pandas as pd"
   ]
  },
  {
   "cell_type": "code",
   "execution_count": 19,
   "outputs": [],
   "source": [
    "data_paths = {\n",
    "    \"reviews_path\": \"./../DATA/IN/olist_order_reviews_dataset.csv\",\n",
    "    \"orders_path\": \"./../DATA/IN/olist_orders_dataset.csv\",\n",
    "    \"items_path\": \"./../DATA/IN/olist_order_items_dataset.csv\",\n",
    "    \"sellers_path\": \"./../DATA/IN/olist_sellers_dataset.csv\",\n",
    "    \"payments_path\": \"./../DATA/IN/olist_order_payments_dataset.csv\"\n",
    "}\n",
    "reviews = pd.read_csv(data_paths['reviews_path'])\n",
    "orders = pd.read_csv(data_paths['orders_path'], parse_dates=['order_delivered_carrier_date'])\n",
    "items = pd.read_csv(data_paths['items_path'])\n",
    "sellers = pd.read_csv(data_paths['sellers_path'])\n",
    "payments = pd.read_csv(data_paths['payments_path'], sep=';')"
   ],
   "metadata": {
    "collapsed": false,
    "ExecuteTime": {
     "end_time": "2023-11-03T15:31:52.112635600Z",
     "start_time": "2023-11-03T15:31:50.923117500Z"
    }
   },
   "id": "520c5c19e59c9ac2"
  },
  {
   "cell_type": "code",
   "execution_count": 20,
   "outputs": [
    {
     "data": {
      "text/plain": "                          review_id                          order_id  \\\n0  7bc2406110b926393aa56f80a40eba40  73fc7af87114b39712e6da79b0a377eb   \n1  7bc2406110b926393aa56f80a40eba40  73fc7af87114b39712e6da79b0a377eb   \n2  5fdb2ed7aa0f1b1c9642175b302e38af  b0bc656fed47584c160f8cff2d7b8bbd   \n3  5fdb2ed7aa0f1b1c9642175b302e38af  b0bc656fed47584c160f8cff2d7b8bbd   \n4  a085ad47c649d76e19a93be48169ef41  52b39f7d5f670b983cae0ae2607bb1bc   \n\n   review_score review_comment_title review_comment_message  \\\n0             4                  NaN                    NaN   \n1             4                  NaN                    NaN   \n2             5                  NaN                    NaN   \n3             5                  NaN                    NaN   \n4             5                  NaN                    NaN   \n\n  review_creation_date review_answer_timestamp  \\\n0  2018-01-18 00:00:00     2018-01-18 21:46:59   \n1  2018-01-18 00:00:00     2018-01-18 21:46:59   \n2  2018-03-17 00:00:00     2018-03-17 17:36:27   \n3  2018-03-17 00:00:00     2018-03-17 17:36:27   \n4  2017-08-02 00:00:00     2017-08-05 03:19:43   \n\n                        customer_id order_status order_purchase_timestamp  \\\n0  41dcb106f807e993532d446263290104    delivered      2018-01-11 15:30:49   \n1  41dcb106f807e993532d446263290104    delivered      2018-01-11 15:30:49   \n2  f4ad1c9eb0bed4469cbe0ff8f47bf634    delivered      2018-02-27 13:56:12   \n3  f4ad1c9eb0bed4469cbe0ff8f47bf634    delivered      2018-02-27 13:56:12   \n4  a03a696301e1946f58f689501c6dc81f    delivered      2017-07-26 21:15:04   \n\n   ...  shipping_limit_date  price freight_value seller_zip_code_prefix  \\\n0  ...  2018-01-18 15:47:59  185.0         13.63                  14600   \n1  ...  2018-01-18 15:47:59  185.0         13.63                  14600   \n2  ...  2018-03-06 14:10:22  135.0         18.20                  14600   \n3  ...  2018-03-06 14:10:22  135.0         18.20                  14600   \n4  ...  2017-08-02 21:25:25   39.9         12.69                  14600   \n\n            seller_city seller_state payment_sequential payment_type  \\\n0  sao joaquim da barra           SP                  1  credit_card   \n1  sao joaquim da barra           SP                  1  credit_card   \n2  sao joaquim da barra           SP                  1  credit_card   \n3  sao joaquim da barra           SP                  1  credit_card   \n4  sao joaquim da barra           SP                  1  credit_card   \n\n   payment_installments  payment_value  \n0                     8         397,26  \n1                     8         397,26  \n2                     1          306,4  \n3                     1          306,4  \n4                     5          52,59  \n\n[5 rows x 27 columns]",
      "text/html": "<div>\n<style scoped>\n    .dataframe tbody tr th:only-of-type {\n        vertical-align: middle;\n    }\n\n    .dataframe tbody tr th {\n        vertical-align: top;\n    }\n\n    .dataframe thead th {\n        text-align: right;\n    }\n</style>\n<table border=\"1\" class=\"dataframe\">\n  <thead>\n    <tr style=\"text-align: right;\">\n      <th></th>\n      <th>review_id</th>\n      <th>order_id</th>\n      <th>review_score</th>\n      <th>review_comment_title</th>\n      <th>review_comment_message</th>\n      <th>review_creation_date</th>\n      <th>review_answer_timestamp</th>\n      <th>customer_id</th>\n      <th>order_status</th>\n      <th>order_purchase_timestamp</th>\n      <th>...</th>\n      <th>shipping_limit_date</th>\n      <th>price</th>\n      <th>freight_value</th>\n      <th>seller_zip_code_prefix</th>\n      <th>seller_city</th>\n      <th>seller_state</th>\n      <th>payment_sequential</th>\n      <th>payment_type</th>\n      <th>payment_installments</th>\n      <th>payment_value</th>\n    </tr>\n  </thead>\n  <tbody>\n    <tr>\n      <th>0</th>\n      <td>7bc2406110b926393aa56f80a40eba40</td>\n      <td>73fc7af87114b39712e6da79b0a377eb</td>\n      <td>4</td>\n      <td>NaN</td>\n      <td>NaN</td>\n      <td>2018-01-18 00:00:00</td>\n      <td>2018-01-18 21:46:59</td>\n      <td>41dcb106f807e993532d446263290104</td>\n      <td>delivered</td>\n      <td>2018-01-11 15:30:49</td>\n      <td>...</td>\n      <td>2018-01-18 15:47:59</td>\n      <td>185.0</td>\n      <td>13.63</td>\n      <td>14600</td>\n      <td>sao joaquim da barra</td>\n      <td>SP</td>\n      <td>1</td>\n      <td>credit_card</td>\n      <td>8</td>\n      <td>397,26</td>\n    </tr>\n    <tr>\n      <th>1</th>\n      <td>7bc2406110b926393aa56f80a40eba40</td>\n      <td>73fc7af87114b39712e6da79b0a377eb</td>\n      <td>4</td>\n      <td>NaN</td>\n      <td>NaN</td>\n      <td>2018-01-18 00:00:00</td>\n      <td>2018-01-18 21:46:59</td>\n      <td>41dcb106f807e993532d446263290104</td>\n      <td>delivered</td>\n      <td>2018-01-11 15:30:49</td>\n      <td>...</td>\n      <td>2018-01-18 15:47:59</td>\n      <td>185.0</td>\n      <td>13.63</td>\n      <td>14600</td>\n      <td>sao joaquim da barra</td>\n      <td>SP</td>\n      <td>1</td>\n      <td>credit_card</td>\n      <td>8</td>\n      <td>397,26</td>\n    </tr>\n    <tr>\n      <th>2</th>\n      <td>5fdb2ed7aa0f1b1c9642175b302e38af</td>\n      <td>b0bc656fed47584c160f8cff2d7b8bbd</td>\n      <td>5</td>\n      <td>NaN</td>\n      <td>NaN</td>\n      <td>2018-03-17 00:00:00</td>\n      <td>2018-03-17 17:36:27</td>\n      <td>f4ad1c9eb0bed4469cbe0ff8f47bf634</td>\n      <td>delivered</td>\n      <td>2018-02-27 13:56:12</td>\n      <td>...</td>\n      <td>2018-03-06 14:10:22</td>\n      <td>135.0</td>\n      <td>18.20</td>\n      <td>14600</td>\n      <td>sao joaquim da barra</td>\n      <td>SP</td>\n      <td>1</td>\n      <td>credit_card</td>\n      <td>1</td>\n      <td>306,4</td>\n    </tr>\n    <tr>\n      <th>3</th>\n      <td>5fdb2ed7aa0f1b1c9642175b302e38af</td>\n      <td>b0bc656fed47584c160f8cff2d7b8bbd</td>\n      <td>5</td>\n      <td>NaN</td>\n      <td>NaN</td>\n      <td>2018-03-17 00:00:00</td>\n      <td>2018-03-17 17:36:27</td>\n      <td>f4ad1c9eb0bed4469cbe0ff8f47bf634</td>\n      <td>delivered</td>\n      <td>2018-02-27 13:56:12</td>\n      <td>...</td>\n      <td>2018-03-06 14:10:22</td>\n      <td>135.0</td>\n      <td>18.20</td>\n      <td>14600</td>\n      <td>sao joaquim da barra</td>\n      <td>SP</td>\n      <td>1</td>\n      <td>credit_card</td>\n      <td>1</td>\n      <td>306,4</td>\n    </tr>\n    <tr>\n      <th>4</th>\n      <td>a085ad47c649d76e19a93be48169ef41</td>\n      <td>52b39f7d5f670b983cae0ae2607bb1bc</td>\n      <td>5</td>\n      <td>NaN</td>\n      <td>NaN</td>\n      <td>2017-08-02 00:00:00</td>\n      <td>2017-08-05 03:19:43</td>\n      <td>a03a696301e1946f58f689501c6dc81f</td>\n      <td>delivered</td>\n      <td>2017-07-26 21:15:04</td>\n      <td>...</td>\n      <td>2017-08-02 21:25:25</td>\n      <td>39.9</td>\n      <td>12.69</td>\n      <td>14600</td>\n      <td>sao joaquim da barra</td>\n      <td>SP</td>\n      <td>1</td>\n      <td>credit_card</td>\n      <td>5</td>\n      <td>52,59</td>\n    </tr>\n  </tbody>\n</table>\n<p>5 rows × 27 columns</p>\n</div>"
     },
     "execution_count": 20,
     "metadata": {},
     "output_type": "execute_result"
    }
   ],
   "source": [
    "merged_data = reviews.merge(orders, on=\"order_id\", how=\"inner\") \\\n",
    "    .merge(items, on=\"order_id\", how=\"inner\") \\\n",
    "    .merge(sellers, on=\"seller_id\", how=\"inner\") \\\n",
    "    .merge(payments, on=\"order_id\", how=\"inner\")\n",
    "merged_data.head()"
   ],
   "metadata": {
    "collapsed": false,
    "ExecuteTime": {
     "end_time": "2023-11-03T15:31:54.585083700Z",
     "start_time": "2023-11-03T15:31:54.109818500Z"
    }
   },
   "id": "c828a3e1f077e7c"
  },
  {
   "cell_type": "code",
   "execution_count": 21,
   "outputs": [
    {
     "data": {
      "text/plain": "                               review_id                          order_id  \\\n114671  799c3e3362ac0d09cfa1b39b51647490  9dc8d1a6f16f1b89874c29c9d8d30447   \n114672  2abb25fde5aafe9bc85d031dffb2f4ac  7f39ba4c9052be115350065d07583cac   \n114673  f6923b4d17e0f4e87b38cb26c758d3c6  d455a8cb295653b55abda06d434ab492   \n\n        review_score review_comment_title  \\\n114671             5                  NaN   \n114672             1                  NaN   \n114673             5                  NaN   \n\n                                   review_comment_message  \\\n114671                                                NaN   \n114672  Produto preto, reembalado na caixa de um branc...   \n114673                                                NaN   \n\n       review_creation_date review_answer_timestamp  \\\n114671  2017-10-25 00:00:00     2017-10-25 23:15:15   \n114672  2017-10-28 00:00:00     2017-10-28 14:32:42   \n114673  2017-10-08 00:00:00     2017-10-11 21:42:45   \n\n                             customer_id order_status  \\\n114671  d9442164acf4b03109425633efaa0cfc    delivered   \n114672  d7fc82cbeafea77bd0a8fbbf6296e387    delivered   \n114673  944b72539d7e1f7f7fc6e46639ef1fe3    delivered   \n\n       order_purchase_timestamp  ...  shipping_limit_date  price  \\\n114671      2017-10-12 13:33:22  ...  2017-10-18 14:49:22  895.0   \n114672      2017-10-18 08:16:34  ...  2017-10-24 23:56:20  895.0   \n114673      2017-09-26 22:17:05  ...  2017-10-12 22:24:16  895.0   \n\n       freight_value seller_zip_code_prefix  seller_city seller_state  \\\n114671         21.02                   9080  santo andre           SP   \n114672         21.02                   9080  santo andre           SP   \n114673         21.02                   9080  santo andre           SP   \n\n       payment_sequential payment_type  payment_installments  payment_value  \n114671                  1  credit_card                     4         916,02  \n114672                  1  credit_card                     8         916,02  \n114673                  1  credit_card                    10         916,02  \n\n[3 rows x 27 columns]",
      "text/html": "<div>\n<style scoped>\n    .dataframe tbody tr th:only-of-type {\n        vertical-align: middle;\n    }\n\n    .dataframe tbody tr th {\n        vertical-align: top;\n    }\n\n    .dataframe thead th {\n        text-align: right;\n    }\n</style>\n<table border=\"1\" class=\"dataframe\">\n  <thead>\n    <tr style=\"text-align: right;\">\n      <th></th>\n      <th>review_id</th>\n      <th>order_id</th>\n      <th>review_score</th>\n      <th>review_comment_title</th>\n      <th>review_comment_message</th>\n      <th>review_creation_date</th>\n      <th>review_answer_timestamp</th>\n      <th>customer_id</th>\n      <th>order_status</th>\n      <th>order_purchase_timestamp</th>\n      <th>...</th>\n      <th>shipping_limit_date</th>\n      <th>price</th>\n      <th>freight_value</th>\n      <th>seller_zip_code_prefix</th>\n      <th>seller_city</th>\n      <th>seller_state</th>\n      <th>payment_sequential</th>\n      <th>payment_type</th>\n      <th>payment_installments</th>\n      <th>payment_value</th>\n    </tr>\n  </thead>\n  <tbody>\n    <tr>\n      <th>114671</th>\n      <td>799c3e3362ac0d09cfa1b39b51647490</td>\n      <td>9dc8d1a6f16f1b89874c29c9d8d30447</td>\n      <td>5</td>\n      <td>NaN</td>\n      <td>NaN</td>\n      <td>2017-10-25 00:00:00</td>\n      <td>2017-10-25 23:15:15</td>\n      <td>d9442164acf4b03109425633efaa0cfc</td>\n      <td>delivered</td>\n      <td>2017-10-12 13:33:22</td>\n      <td>...</td>\n      <td>2017-10-18 14:49:22</td>\n      <td>895.0</td>\n      <td>21.02</td>\n      <td>9080</td>\n      <td>santo andre</td>\n      <td>SP</td>\n      <td>1</td>\n      <td>credit_card</td>\n      <td>4</td>\n      <td>916,02</td>\n    </tr>\n    <tr>\n      <th>114672</th>\n      <td>2abb25fde5aafe9bc85d031dffb2f4ac</td>\n      <td>7f39ba4c9052be115350065d07583cac</td>\n      <td>1</td>\n      <td>NaN</td>\n      <td>Produto preto, reembalado na caixa de um branc...</td>\n      <td>2017-10-28 00:00:00</td>\n      <td>2017-10-28 14:32:42</td>\n      <td>d7fc82cbeafea77bd0a8fbbf6296e387</td>\n      <td>delivered</td>\n      <td>2017-10-18 08:16:34</td>\n      <td>...</td>\n      <td>2017-10-24 23:56:20</td>\n      <td>895.0</td>\n      <td>21.02</td>\n      <td>9080</td>\n      <td>santo andre</td>\n      <td>SP</td>\n      <td>1</td>\n      <td>credit_card</td>\n      <td>8</td>\n      <td>916,02</td>\n    </tr>\n    <tr>\n      <th>114673</th>\n      <td>f6923b4d17e0f4e87b38cb26c758d3c6</td>\n      <td>d455a8cb295653b55abda06d434ab492</td>\n      <td>5</td>\n      <td>NaN</td>\n      <td>NaN</td>\n      <td>2017-10-08 00:00:00</td>\n      <td>2017-10-11 21:42:45</td>\n      <td>944b72539d7e1f7f7fc6e46639ef1fe3</td>\n      <td>delivered</td>\n      <td>2017-09-26 22:17:05</td>\n      <td>...</td>\n      <td>2017-10-12 22:24:16</td>\n      <td>895.0</td>\n      <td>21.02</td>\n      <td>9080</td>\n      <td>santo andre</td>\n      <td>SP</td>\n      <td>1</td>\n      <td>credit_card</td>\n      <td>10</td>\n      <td>916,02</td>\n    </tr>\n  </tbody>\n</table>\n<p>3 rows × 27 columns</p>\n</div>"
     },
     "execution_count": 21,
     "metadata": {},
     "output_type": "execute_result"
    }
   ],
   "source": [
    "merged_data.loc[(merged_data['seller_id'] == '0015a82c2db000af6aaaf3ae2ecb0532')]"
   ],
   "metadata": {
    "collapsed": false,
    "ExecuteTime": {
     "end_time": "2023-11-03T15:32:03.078705Z",
     "start_time": "2023-11-03T15:32:03.003993900Z"
    }
   },
   "id": "c3d9834533e57f27"
  },
  {
   "cell_type": "code",
   "execution_count": 14,
   "outputs": [],
   "source": [
    "merged_data = merged_data.groupby('seller_id').agg({\n",
    "            'order_id': 'count',\n",
    "            'payment_value': 'sum',\n",
    "            'review_score': 'mean',\n",
    "            'order_delivered_carrier_date': 'max'\n",
    "        }).rename(columns={'order_id': 'total_orders',\n",
    "                           'payment_value': 'total_payment_value',\n",
    "                           'review_score': 'average_review_score',\n",
    "                           'order_delivered_carrier_date': 'latest_delivery_date'}).reset_index()\n",
    "\n"
   ],
   "metadata": {
    "collapsed": false,
    "ExecuteTime": {
     "end_time": "2023-11-03T15:22:27.850891200Z",
     "start_time": "2023-11-03T15:22:27.751738800Z"
    }
   },
   "id": "93006d81e30f20d8"
  },
  {
   "cell_type": "code",
   "execution_count": 17,
   "outputs": [
    {
     "data": {
      "text/plain": "                          seller_id  total_orders total_payment_value  \\\n0  0015a82c2db000af6aaaf3ae2ecb0532             3  916,02916,02916,02   \n\n   average_review_score latest_delivery_date  \n0              3.666667  2017-10-20 14:29:01  ",
      "text/html": "<div>\n<style scoped>\n    .dataframe tbody tr th:only-of-type {\n        vertical-align: middle;\n    }\n\n    .dataframe tbody tr th {\n        vertical-align: top;\n    }\n\n    .dataframe thead th {\n        text-align: right;\n    }\n</style>\n<table border=\"1\" class=\"dataframe\">\n  <thead>\n    <tr style=\"text-align: right;\">\n      <th></th>\n      <th>seller_id</th>\n      <th>total_orders</th>\n      <th>total_payment_value</th>\n      <th>average_review_score</th>\n      <th>latest_delivery_date</th>\n    </tr>\n  </thead>\n  <tbody>\n    <tr>\n      <th>0</th>\n      <td>0015a82c2db000af6aaaf3ae2ecb0532</td>\n      <td>3</td>\n      <td>916,02916,02916,02</td>\n      <td>3.666667</td>\n      <td>2017-10-20 14:29:01</td>\n    </tr>\n  </tbody>\n</table>\n</div>"
     },
     "execution_count": 17,
     "metadata": {},
     "output_type": "execute_result"
    }
   ],
   "source": [
    "merged_data.loc[(merged_data['seller_id'] == '0015a82c2db000af6aaaf3ae2ecb0532')]"
   ],
   "metadata": {
    "collapsed": false,
    "ExecuteTime": {
     "end_time": "2023-11-03T15:29:37.660391600Z",
     "start_time": "2023-11-03T15:29:37.647782Z"
    }
   },
   "id": "d5e258ee8277333b"
  },
  {
   "cell_type": "code",
   "execution_count": 15,
   "outputs": [],
   "source": [],
   "metadata": {
    "collapsed": false,
    "ExecuteTime": {
     "end_time": "2023-11-03T15:22:27.851980800Z",
     "start_time": "2023-11-03T15:22:27.811555300Z"
    }
   },
   "id": "b0ddf4e8c7bc5e98"
  }
 ],
 "metadata": {
  "kernelspec": {
   "display_name": "Python 3",
   "language": "python",
   "name": "python3"
  },
  "language_info": {
   "codemirror_mode": {
    "name": "ipython",
    "version": 2
   },
   "file_extension": ".py",
   "mimetype": "text/x-python",
   "name": "python",
   "nbconvert_exporter": "python",
   "pygments_lexer": "ipython2",
   "version": "2.7.6"
  }
 },
 "nbformat": 4,
 "nbformat_minor": 5
}
